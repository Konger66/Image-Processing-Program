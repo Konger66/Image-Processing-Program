{
  "nbformat": 4,
  "nbformat_minor": 0,
  "metadata": {
    "colab": {
      "provenance": [],
      "include_colab_link": true
    },
    "kernelspec": {
      "name": "python3",
      "display_name": "Python 3"
    },
    "language_info": {
      "name": "python"
    }
  },
  "cells": [
    {
      "cell_type": "markdown",
      "metadata": {
        "id": "view-in-github",
        "colab_type": "text"
      },
      "source": [
        "<a href=\"https://colab.research.google.com/github/Konger66/Image-Processing-Program/blob/main/Image_Processing_Program.ipynb\" target=\"_parent\"><img src=\"https://colab.research.google.com/assets/colab-badge.svg\" alt=\"Open In Colab\"/></a>"
      ]
    },
    {
      "cell_type": "code",
      "execution_count": null,
      "metadata": {
        "id": "fDkvvxH92pgV",
        "colab": {
          "base_uri": "https://localhost:8080/"
        },
        "outputId": "5c93f9b4-4d47-4e9b-c969-5f253acc768d"
      },
      "outputs": [
        {
          "output_type": "stream",
          "name": "stdout",
          "text": [
            "OpenCV-Python Lib Version: 4.8.0\n",
            "Python Version: 3.10.12 (main, Jun 11 2023, 05:26:28) [GCC 11.4.0]\n"
          ]
        }
      ],
      "source": [
        "import os\n",
        "import sys\n",
        "\n",
        "import numpy as np\n",
        "import matplotlib.pyplot as plt\n",
        "%matplotlib inline\n",
        "\n",
        "import cv2\n",
        "\n",
        "import ipywidgets as widgets\n",
        "from ipywidgets import interact, interact_manual\n",
        "\n",
        "from IPython.display import display, Javascript, Image\n",
        "\n",
        "from google.colab.output import eval_js\n",
        "from base64 import b64decode, b64encode\n",
        "import PIL\n",
        "import io\n",
        "import html\n",
        "import time\n",
        "\n",
        "#Get Python and OpenCV Version\n",
        "\n",
        "print('OpenCV-Python Lib Version:', cv2.__version__)\n",
        "print('Python Version:',sys.version)\n"
      ]
    },
    {
      "cell_type": "code",
      "source": [
        "from google.colab import drive\n",
        "drive.mount('/content/drive')"
      ],
      "metadata": {
        "colab": {
          "base_uri": "https://localhost:8080/"
        },
        "id": "m6_xpbsvDDlb",
        "outputId": "06092b69-ebc6-4adb-c03a-c04294bb574e"
      },
      "execution_count": null,
      "outputs": [
        {
          "output_type": "stream",
          "name": "stdout",
          "text": [
            "Mounted at /content/drive\n"
          ]
        }
      ]
    },
    {
      "cell_type": "code",
      "source": [
        "#Metal1 = cv2.imread('/content/drive/MyDrive/Colab Notebooks/Training Images/Metal/Metal_1.jpg', cv2.IMREAD_UNCHANGED)\n",
        "Metal1 = cv2.imread('/content/drive/MyDrive/Colab Notebooks/Training Images/Metal/Metal_1.jpg', cv2.IMREAD_UNCHANGED)\n",
        "\n",
        "\n",
        "\n",
        "\n",
        "\n",
        "\n",
        "\n",
        "\n",
        "plt.figure(figsize=(20,10))\n",
        "#Note: matplotlib uses RGB format so had to convert BGR-to-RGB\n",
        "plt.imshow(cv2.cvtColor(Metal1,cv2.COLOR_BGR2RGB))\n",
        "plt.title('RGB Image',color='c')"
      ],
      "metadata": {
        "id": "B53aE1kS6_hX",
        "colab": {
          "base_uri": "https://localhost:8080/",
          "height": 245
        },
        "outputId": "d193d1e9-8f89-4272-eb58-35fd40184cef"
      },
      "execution_count": null,
      "outputs": [
        {
          "output_type": "error",
          "ename": "error",
          "evalue": "ignored",
          "traceback": [
            "\u001b[0;31m---------------------------------------------------------------------------\u001b[0m",
            "\u001b[0;31merror\u001b[0m                                     Traceback (most recent call last)",
            "\u001b[0;32m<ipython-input-3-bc1ebb816e6f>\u001b[0m in \u001b[0;36m<cell line: 13>\u001b[0;34m()\u001b[0m\n\u001b[1;32m     11\u001b[0m \u001b[0mplt\u001b[0m\u001b[0;34m.\u001b[0m\u001b[0mfigure\u001b[0m\u001b[0;34m(\u001b[0m\u001b[0mfigsize\u001b[0m\u001b[0;34m=\u001b[0m\u001b[0;34m(\u001b[0m\u001b[0;36m20\u001b[0m\u001b[0;34m,\u001b[0m\u001b[0;36m10\u001b[0m\u001b[0;34m)\u001b[0m\u001b[0;34m)\u001b[0m\u001b[0;34m\u001b[0m\u001b[0;34m\u001b[0m\u001b[0m\n\u001b[1;32m     12\u001b[0m \u001b[0;31m#Note: matplotlib uses RGB format so had to convert BGR-to-RGB\u001b[0m\u001b[0;34m\u001b[0m\u001b[0;34m\u001b[0m\u001b[0m\n\u001b[0;32m---> 13\u001b[0;31m \u001b[0mplt\u001b[0m\u001b[0;34m.\u001b[0m\u001b[0mimshow\u001b[0m\u001b[0;34m(\u001b[0m\u001b[0mcv2\u001b[0m\u001b[0;34m.\u001b[0m\u001b[0mcvtColor\u001b[0m\u001b[0;34m(\u001b[0m\u001b[0mMetal1\u001b[0m\u001b[0;34m,\u001b[0m\u001b[0mcv2\u001b[0m\u001b[0;34m.\u001b[0m\u001b[0mCOLOR_BGR2RGB\u001b[0m\u001b[0;34m)\u001b[0m\u001b[0;34m)\u001b[0m\u001b[0;34m\u001b[0m\u001b[0;34m\u001b[0m\u001b[0m\n\u001b[0m\u001b[1;32m     14\u001b[0m \u001b[0mplt\u001b[0m\u001b[0;34m.\u001b[0m\u001b[0mtitle\u001b[0m\u001b[0;34m(\u001b[0m\u001b[0;34m'RGB Image'\u001b[0m\u001b[0;34m,\u001b[0m\u001b[0mcolor\u001b[0m\u001b[0;34m=\u001b[0m\u001b[0;34m'c'\u001b[0m\u001b[0;34m)\u001b[0m\u001b[0;34m\u001b[0m\u001b[0;34m\u001b[0m\u001b[0m\n",
            "\u001b[0;31merror\u001b[0m: OpenCV(4.8.0) /io/opencv/modules/imgproc/src/color.cpp:182: error: (-215:Assertion failed) !_src.empty() in function 'cvtColor'\n"
          ]
        },
        {
          "output_type": "display_data",
          "data": {
            "text/plain": [
              "<Figure size 2000x1000 with 0 Axes>"
            ]
          },
          "metadata": {}
        }
      ]
    },
    {
      "cell_type": "code",
      "source": [
        "Metal1_Gray = cv2.cvtColor(Metal1, cv2.COLOR_BGR2RGB)\n",
        "#Metal1_Canny = cv2.Canny(Metal1_Gray, 50, 200)\n",
        "#ret, Metal1_Binary = cv2.threshold(Metal1_Gray, 25, 255, cv2.THRESH_BINARY)\n",
        "#contours, _ = cv2.findContours(Metal1_Binary, 1, 2)\n",
        "\n",
        "def houghCircleDetector(img_path):\n",
        "  img = cv2.imread(img_path)\n",
        "\n",
        "  new = cv2.convertScaleAbs(img, alpha = 1.5, beta = 10)\n",
        "  new = cv2.medianBlur(new, 5)\n",
        "\n",
        "  img_edge = cv2.Canny(new, 50, 200)\n",
        "\n",
        "  circles = cv2.HoughCircles(img_edge,cv2.HOUGH_GRADIENT,1,minDist=20,param1=75,param2=46)\n",
        "  circles = np.uint16(np.around(circles))\n",
        "\n",
        "  for val in circles[0,:]:\n",
        "      cv2.circle(new,(val[0],val[1]),val[2],(255,0,0),2)\n",
        "\n",
        "  plt.subplot(121), plt.imshow(cv2.cvtColor(img_edge,cv2.COLOR_BGR2RGB)), plt.title('Canny')\n",
        "  plt.subplot(122), plt.imshow(cv2.cvtColor(new,cv2.COLOR_BGR2RGB)), plt.title('Result')\n",
        "\n",
        "  return\n",
        "\n",
        "def detectShapes(img_path):\n",
        "    img = cv2.imread(img_path,cv2.IMREAD_GRAYSCALE)\n",
        "    _,img_binary = cv2.threshold(img,25,255,cv2.THRESH_BINARY_INV)\n",
        "    contours,_ = cv2.findContours(img_binary.copy(),1,2)\n",
        "    for num,cnt in enumerate(contours):\n",
        "        x,y,w,h = cv2.boundingRect(cnt)\n",
        "        approx = cv2.approxPolyDP(cnt,0.01*cv2.arcLength(cnt,True),True)\n",
        "        # print(num, approx)\n",
        "        if len(approx) > 10:\n",
        "            cv2.putText(img,\"Circle\",(int(x+w/2),int(y+h/2)),cv2.FONT_HERSHEY_SIMPLEX,1,(0,255,0),2)\n",
        "            cv2.drawContours(img,[cnt],-1,(0,255,0),2)\n",
        "\n",
        "    plt.figure(figsize=(20,10))\n",
        "    plt.imshow(cv2.cvtColor(img,cv2.COLOR_BGR2RGB)), plt.title('Result')\n",
        "\n",
        "    return\n",
        "\n",
        "\n",
        "#Note: matplotlib uses RGB format so had to convert BGR-to-RGB\n",
        "\n",
        "houghCircleDetector('/content/drive/MyDrive/Colab Notebooks/Training Images/Metal/Metal_2.jpg')\n",
        "#plt.imshow()\n",
        "#plt.title('Canny Edge Detection',color='c')"
      ],
      "metadata": {
        "id": "deVZ0TG2HPvw"
      },
      "execution_count": null,
      "outputs": []
    },
    {
      "cell_type": "code",
      "source": [
        "Metal1_Gray = cv2.cvtColor(Metal1, cv2.COLOR_BGR2RGB)\n",
        "#Metal1_Canny = cv2.Canny(Metal1_Gray, 50, 200)\n",
        "#ret, Metal1_Binary = cv2.threshold(Metal1_Gray, 25, 255, cv2.THRESH_BINARY)\n",
        "#contours, _ = cv2.findContours(Metal1_Binary, 1, 2)\n",
        "\n",
        "def houghCircleDetector(img_path):\n",
        "  img = cv2.imread(img_path)\n",
        "\n",
        "  new = cv2.convertScaleAbs(img, alpha = 1.5, beta = 10)\n",
        "  new = cv2.medianBlur(new, 5)\n",
        "\n",
        "  new1 = new[0:,0:200].copy()\n",
        "  new2 = new[0:,1100:].copy()\n",
        "\n",
        "  img_edge1 = cv2.Canny(new1, 50, 200)\n",
        "  img_edge2 = cv2.Canny(new2, 50, 200)\n",
        "\n",
        "  circles1 = cv2.HoughCircles(img_edge1,cv2.HOUGH_GRADIENT,1,minDist=20,param1=10,param2=34)\n",
        "  circles1 = np.uint16(np.around(circles1))\n",
        "  circles2 = cv2.HoughCircles(img_edge2,cv2.HOUGH_GRADIENT,1,minDist=20,param1=10,param2=34)\n",
        "  circles2 = np.uint16(np.around(circles2))\n",
        "\n",
        "  for val in circles1[0,:]:\n",
        "      cv2.circle(new1,(val[0],val[1]),val[2],(255,0,0),2)\n",
        "  for val in circles2[0,:]:\n",
        "      cv2.circle(new2,(val[0],val[1]),val[2],(255,0,0),2)\n",
        "\n",
        "  plt.subplot(121), plt.imshow(cv2.cvtColor(new1,cv2.COLOR_BGR2RGB)), plt.title('Canny')\n",
        "  plt.subplot(122), plt.imshow(cv2.cvtColor(new2,cv2.COLOR_BGR2RGB)), plt.title('Result')\n",
        "\n",
        "  return\n",
        "\n",
        "def detectShapes(img_path):\n",
        "  img = cv2.imread(img_path)\n",
        "\n",
        "  new = cv2.convertScaleAbs(img, alpha = 1.5, beta = 10)\n",
        "  new = cv2.medianBlur(new, 5)\n",
        "\n",
        "  new1 = new[0:,0:200].copy()\n",
        "  new2 = new[0:,1100:].copy()\n",
        "\n",
        "  img_edge1 = cv2.Canny(new1, 50, 200)\n",
        "  img_edge2 = cv2.Canny(new2, 50, 200)\n",
        "\n",
        "  circles1 = cv2.HoughCircles(img_edge1,cv2.HOUGH_GRADIENT,1,minDist=20,param1=10,param2=34)\n",
        "  circles1 = np.uint16(np.around(circles1))\n",
        "  circles2 = cv2.HoughCircles(img_edge2,cv2.HOUGH_GRADIENT,1,minDist=20,param1=10,param2=34)\n",
        "  circles2 = np.uint16(np.around(circles2))\n",
        "\n",
        "  for val in circles1[0,:]:\n",
        "      cv2.circle(new1,(val[0],val[1]),val[2],(255,0,0),2)\n",
        "  for val in circles2[0,:]:\n",
        "      cv2.circle(new2,(val[0],val[1]),val[2],(255,0,0),2)\n",
        "\n",
        "  _,new_binary1 = cv2.threshold(new1,25,255,cv2.THRESH_BINARY_INV)\n",
        "  _,new_binary2 = cv2.threshold(new2,25,255,cv2.THRESH_BINARY_INV)\n",
        "\n",
        "  contours,_ = cv2.findContours(new_binary1.copy(),1,2)\n",
        "  for num,cnt in enumerate(contours):\n",
        "    x,y,w,h = cv2.boundingRect(cnt)\n",
        "    approx = cv2.approxPolyDP(cnt,0.01*cv2.arcLength(cnt,True),True)\n",
        "    # print(num, approx)\n",
        "    if len(approx) > 10:\n",
        "      cv2.putText(new_binary1,\"Circle\",(int(x+w/2),int(y+h/2)),cv2.FONT_HERSHEY_SIMPLEX,1,(0,255,0),2)\n",
        "      cv2.drawContours(new_binary1,[cnt],-1,(0,255,0),2)\n",
        "\n",
        "    plt.figure(figsize=(20,10))\n",
        "    plt.imshow(cv2.cvtColor(new_binary1,cv2.COLOR_BGR2RGB)), plt.title('Result')\n",
        "\n",
        "    return\n",
        "\n",
        "\n",
        "#Note: matplotlib uses RGB format so had to convert BGR-to-RGB\n",
        "\n",
        "detectShapes('/content/drive/MyDrive/Colab Notebooks/Training Images/Metal/Metal_1.jpg')\n",
        "#plt.imshow()\n",
        "#plt.title('Canny Edge Detection',color='c')"
      ],
      "metadata": {
        "id": "ceKSeivXlVM0"
      },
      "execution_count": null,
      "outputs": []
    },
    {
      "cell_type": "code",
      "source": [
        "#ret, Metal1_Binary = cv2.threshold(Metal1_Gray, 25, 255, cv2.THRESH_BINARY_INV)\n",
        "\n",
        "#plt.imshow(Metal1_Binary, cmap = 'binary')\n",
        "#plt.imshow(Metal2_Binary, cmap = 'binary')\n",
        "#plt.imshow(Metal3_Binary, cmap = 'binary')\n",
        "#plt.imshow(Metal4_Binary, cmap = 'binary')\n",
        "#plt.imshow(Metal5_Binary, cmap = 'binary')\n",
        "#plt.imshow(Metal6_Binary, cmap = 'binary')\n",
        "\n",
        "\n"
      ],
      "metadata": {
        "id": "jPGt1Tk1J1pp"
      },
      "execution_count": null,
      "outputs": []
    }
  ]
}